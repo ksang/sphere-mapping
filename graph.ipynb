{
 "cells": [
  {
   "cell_type": "code",
   "execution_count": null,
   "id": "a35f3693",
   "metadata": {},
   "outputs": [],
   "source": [
    "import numpy as np\n",
    "\n",
    "from graph import make_graph\n",
    "from mapping import *"
   ]
  },
  {
   "cell_type": "code",
   "execution_count": null,
   "id": "e46b1e0d",
   "metadata": {},
   "outputs": [],
   "source": [
    "resolution = (16, 8)\n",
    "sample = np.random.rand(3) - 0.5\n",
    "#sample = np.array([1,1,1])\n",
    "sample = sample / np.linalg.norm(sample)\n",
    "\n",
    "mapping_uv_sphere = mercator_uv_to_sphere \n",
    "mapping_sphere_uv = mercator_sphere_to_uv"
   ]
  },
  {
   "cell_type": "code",
   "execution_count": null,
   "id": "ac8e47b2",
   "metadata": {},
   "outputs": [],
   "source": [
    "graph = make_graph(sample, resolution, mapping_uv_sphere, mapping_sphere_uv)\n",
    "graph.show()"
   ]
  }
 ],
 "metadata": {
  "kernelspec": {
   "display_name": "Python 3 (ipykernel)",
   "language": "python",
   "name": "python3"
  },
  "language_info": {
   "codemirror_mode": {
    "name": "ipython",
    "version": 3
   },
   "file_extension": ".py",
   "mimetype": "text/x-python",
   "name": "python",
   "nbconvert_exporter": "python",
   "pygments_lexer": "ipython3",
   "version": "3.10.4"
  }
 },
 "nbformat": 4,
 "nbformat_minor": 5
}
